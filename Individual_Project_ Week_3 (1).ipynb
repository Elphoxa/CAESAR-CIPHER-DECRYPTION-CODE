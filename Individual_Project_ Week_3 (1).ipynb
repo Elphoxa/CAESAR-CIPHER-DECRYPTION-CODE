{
 "cells": [
  {
   "cell_type": "markdown",
   "id": "57ec4090-c23a-41c4-af7b-1c02cc51c6fb",
   "metadata": {},
   "source": [
    "                                        CAESAR CIPHER DECRYPTION CODE"
   ]
  },
  {
   "cell_type": "code",
   "execution_count": 5,
   "id": "1135ee5b-5e31-401d-ab95-f367ed3ae10f",
   "metadata": {},
   "outputs": [
    {
     "name": "stdin",
     "output_type": "stream",
     "text": [
      "Please enter Ceasar's encrypted message:  Fkdqjh wr Gldprqg irupdwlrq dqg suhsduh wr dwwdfn iurp wkh vlghv\n",
      "Please enter the shift value used for encryption:  3\n"
     ]
    },
    {
     "name": "stdout",
     "output_type": "stream",
     "text": [
      "Decrypted Text: Change to Diamond formation and prepare to attack from the sides\n"
     ]
    }
   ],
   "source": [
    "def caesar_cipher_decrypt(encrypted_text, shift):\n",
    "    decrypted_text = \"\" \n",
    "    for char in encrypted_text:  \n",
    "        if char.isalpha(): \n",
    "            is_upper = char.isupper() \n",
    "            char = char.lower()  \n",
    "            shifted_char = chr(((ord(char) - ord('a') - shift) % 26) + ord('a'))\n",
    "            if is_upper:  \n",
    "                shifted_char = shifted_char.upper()\n",
    "            decrypted_text += shifted_char  \n",
    "        else:\n",
    "            decrypted_text += char  \n",
    "    return decrypted_text  \n",
    "\n",
    "\n",
    "encrypted_text = input(\"Please enter Ceasar's encrypted message: \")\n",
    "shift = int(input(\"Please enter the shift value used for encryption: \"))  \n",
    "\n",
    "# Decryption\n",
    "decrypted_text = caesar_cipher_decrypt(encrypted_text, shift)  \n",
    "print(\"Decrypted Text:\", decrypted_text)\n"
   ]
  },
  {
   "cell_type": "code",
   "execution_count": null,
   "id": "61379399-801e-4f7c-9711-419893261723",
   "metadata": {},
   "outputs": [],
   "source": []
  }
 ],
 "metadata": {
  "kernelspec": {
   "display_name": "Python 3 (ipykernel)",
   "language": "python",
   "name": "python3"
  },
  "language_info": {
   "codemirror_mode": {
    "name": "ipython",
    "version": 3
   },
   "file_extension": ".py",
   "mimetype": "text/x-python",
   "name": "python",
   "nbconvert_exporter": "python",
   "pygments_lexer": "ipython3",
   "version": "3.10.9"
  }
 },
 "nbformat": 4,
 "nbformat_minor": 5
}
